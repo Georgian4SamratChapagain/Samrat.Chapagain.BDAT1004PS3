{
 "cells": [
  {
   "cell_type": "markdown",
   "id": "b0606a50",
   "metadata": {},
   "source": [
    "<h2><center>Problem Set 2</center></h2>\n"
   ]
  },
  {
   "cell_type": "markdown",
   "id": "66179164",
   "metadata": {},
   "source": [
    "<h4>Question 1</h4> Consider the following Python module:\n",
    "a = 0\n",
    "def b():\n",
    " global a\n",
    " a = c(a)\n",
    "def c(a):\n",
    " return a + 2\n",
    "After importing the module into the interpreter, you execute:\n",
    ">>> b()\n",
    ">>> b()\n",
    ">>> b()\n",
    ">>> a\n",
    "?\n",
    "What value is displayed when the last expression (a) is evaluated? Explain your\n",
    "answer by indicating what happens in every executed statement."
   ]
  },
  {
   "cell_type": "code",
   "execution_count": 2,
   "id": "12ef094e",
   "metadata": {},
   "outputs": [
    {
     "data": {
      "text/plain": [
       "4"
      ]
     },
     "execution_count": 2,
     "metadata": {},
     "output_type": "execute_result"
    }
   ],
   "source": [
    "a=0 #Assign 0 value to the variable\n",
    "def b(): #defines a function named b\n",
    "    global a #fuction defining a variabe a inside function variable b as a global variable 'a'\n",
    "    a=c(a) #call function c with the current value of variable a. Output of c(a) function is assigned here as global variable a \n",
    "def c(a): #function c that takes parameter c\n",
    "    return a+2 #adds 2 in variable a and return it\n",
    "b() #value of a is 0, after executing returns 0+2=2 to variable a \n",
    "b() #value of a=2, again 2 is added and now the value of variable a is 4\n",
    "a #when we print variable a, it prints latest update i.e. 4"
   ]
  },
  {
   "cell_type": "markdown",
   "id": "df447e5c",
   "metadata": {},
   "source": [
    "<h4>Question 2</h4>Function fileLength(), given to you, takes the name of a file as input and returns\n",
    "the length of the file:\n",
    ">>> fileLength('midterm.py')\n",
    "284\n",
    ">>> fileLength('idterm.py')\n",
    "Traceback (most recent call last):\n",
    "File \"<pyshell#34>\", line 1, in <module>\n",
    " fileLength('idterm.py')\n",
    "File \"/Users/me/midterm.py\", line 3, in fileLength\n",
    " infile = open(filename)\n",
    "FileNotFoundError: [Errno 2] No such file or directory:\n",
    "'idterm.py'\n",
    "As shown above, if the file cannot be found by the interpreter or if it cannot be read\n",
    "as a text file, an exception will be raised. Modify function fileLength() so that a\n",
    "friendly message is printed instead:\n",
    ">>> fileLength('midterm.py')\n",
    "358\n",
    ">>> fileLength('idterm.py')\n",
    "File idterm.py not found."
   ]
  },
  {
   "cell_type": "code",
   "execution_count": 3,
   "id": "ced0bc0c",
   "metadata": {},
   "outputs": [],
   "source": [
    "def fileLength(filename):\n",
    "    try:\n",
    "        infile = open(filename)\n",
    "        content = infile.read()\n",
    "        infile.close()\n",
    "        return len(content)\n",
    "    except FileNotFoundError:\n",
    "        print(f\"File {filename} not found.\")"
   ]
  },
  {
   "cell_type": "code",
   "execution_count": 5,
   "id": "25a09c91",
   "metadata": {},
   "outputs": [
    {
     "data": {
      "text/plain": [
       "72"
      ]
     },
     "execution_count": 5,
     "metadata": {},
     "output_type": "execute_result"
    }
   ],
   "source": [
    "fileLength('midterm.ipynb')"
   ]
  },
  {
   "cell_type": "code",
   "execution_count": 6,
   "id": "20ec2873",
   "metadata": {},
   "outputs": [
    {
     "name": "stdout",
     "output_type": "stream",
     "text": [
      "File idterm.py not found.\n"
     ]
    }
   ],
   "source": [
    "fileLength('idterm.py') "
   ]
  },
  {
   "cell_type": "markdown",
   "id": "d6ae87eb",
   "metadata": {},
   "source": [
    "<h4>Question 3</h4>Write a class named Marsupial that can be used as shown below:\n",
    ">>> m = Marsupial()\n",
    ">>> m.put_in_pouch('doll')\n",
    ">>> m.put_in_pouch('firetruck')\n",
    ">>> m.put_in_pouch('kitten')\n",
    ">>> m.pouch_contents()\n",
    "['doll', 'firetruck', 'kitten'], \n",
    "Now write a class named Kangaroo as a subclass of Marsupial that inherits all the\n",
    "attributes of Marsupial and also:\n",
    "a. extends the Marsupial __init__ constructor to take, as input, the\n",
    "coordinates x and y of the Kangaroo object,\n",
    "b. supports method jump that takes number values dx and dy as input and\n",
    "moves the kangaroo by dx units along the x-axis and by dy units along the yaxis, and\n",
    "c. overloads the __str__ operator so it behaves as shown below.\n",
    ">>> k = Kangaroo(0,0)\n",
    ">>> print(k)\n",
    "I am a Kangaroo located at coordinates (0,0)\n",
    ">>> k.put_in_pouch('doll')\n",
    ">>> k.put_in_pouch('firetruck')\n",
    ">>> k.put_in_pouch('kitten')\n",
    ">>> k.pouch_contents()\n",
    "['doll', 'firetruck', 'kitten']\n",
    ">>> k.jump(1,0)\n",
    ">>> k.jump(1,0)\n",
    ">>> k.jump(1,0)\n",
    ">>> print(k)\n",
    "I am a Kangaroo located at coordinates (3,0)"
   ]
  },
  {
   "cell_type": "code",
   "execution_count": 7,
   "id": "f84cc8ba",
   "metadata": {},
   "outputs": [],
   "source": [
    "class Marsupial:\n",
    "    def __init__(self):\n",
    "        self.pouch = []\n",
    "\n",
    "    def put_in_pouch(self, item):\n",
    "        self.pouch.append(item)\n",
    "\n",
    "    def pouch_contents(self):\n",
    "        return self.pouch\n",
    "\n",
    "\n",
    "class Kangaroo(Marsupial):\n",
    "    def __init__(self, x, y):\n",
    "        super().__init__()\n",
    "        self.coordinates = (x, y)\n",
    "\n",
    "    def jump(self, dx, dy):\n",
    "        x, y = self.coordinates\n",
    "        self.coordinates = (x + dx, y + dy)\n",
    "\n",
    "    def __str__(self):\n",
    "        x, y = self.coordinates\n",
    "        return f\"I am a Kangaroo located at coordinates ({x},{y})\"\n"
   ]
  },
  {
   "cell_type": "code",
   "execution_count": 9,
   "id": "b2e05479",
   "metadata": {},
   "outputs": [
    {
     "name": "stdout",
     "output_type": "stream",
     "text": [
      "['doll', 'firetruck', 'kitten']\n",
      "I am a Kangaroo located at coordinates (0,0)\n",
      "['doll', 'firetruck', 'kitten']\n",
      "I am a Kangaroo located at coordinates (3,0)\n"
     ]
    }
   ],
   "source": [
    "#Example Usage\n",
    "m = Marsupial()\n",
    "m.put_in_pouch('doll')\n",
    "m.put_in_pouch('firetruck')\n",
    "m.put_in_pouch('kitten')\n",
    "print(m.pouch_contents())  # Outputs: 'doll', 'firetruck', 'kitten'\n",
    "\n",
    "k = Kangaroo(0, 0)\n",
    "print(k)  # Output: I am a Kangaroo located at coordinates (0,0)\n",
    "k.put_in_pouch('doll')\n",
    "k.put_in_pouch('firetruck')\n",
    "k.put_in_pouch('kitten')\n",
    "print(k.pouch_contents())  # Outputs: 'doll', 'firetruck', 'kitten'\n",
    "k.jump(1, 0)\n",
    "k.jump(1, 0)\n",
    "k.jump(1, 0)\n",
    "print(k)  # Output: I am a Kangaroo located at coordinates (3,0)\n"
   ]
  },
  {
   "cell_type": "markdown",
   "id": "0ed2c785",
   "metadata": {},
   "source": [
    "<h4>Question 4</h4>Write function collatz() that takes a positive integer x as input and prints the\n",
    "Collatz sequence starting at x. A Collatz sequence is obtained by repeatedly applying\n",
    "this rule to the previous number x in the sequence:\n",
    "x = {\n",
    "𝑥/2 𝑖𝑓 𝑥 𝑖𝑠 𝑒𝑣𝑒𝑛\n",
    "3𝑥 + 1 𝑖𝑓 𝑥 𝑖𝑠 𝑜𝑑𝑑\n",
    "Your function should stop when the sequence gets to number 1. Your\n",
    "implementation must be recursive, without any loops.\n",
    ">>> collatz(1)\n",
    "1\n",
    ">>> collatz(10)\n",
    "10\n",
    "5\n",
    "16\n",
    "8\n",
    "4\n",
    "2\n",
    "1\n"
   ]
  },
  {
   "cell_type": "code",
   "execution_count": 45,
   "id": "e4dddc27",
   "metadata": {},
   "outputs": [
    {
     "name": "stdout",
     "output_type": "stream",
     "text": [
      "1\n",
      "********\n",
      "10\n",
      "5\n",
      "16\n",
      "8\n",
      "4\n",
      "2\n",
      "1\n"
     ]
    }
   ],
   "source": [
    "def collatz(x):\n",
    "    print(x)\n",
    "    if x == 1:\n",
    "        return\n",
    "    else:\n",
    "        if x % 2 == 0:\n",
    "            collatz(x // 2)\n",
    "        else:\n",
    "            collatz(3 * x + 1)\n",
    "\n",
    "# Testing the collatz function\n",
    "collatz(1)\n",
    "print(\"********\")\n",
    "collatz(10)\n"
   ]
  },
  {
   "cell_type": "markdown",
   "id": "537fa81d",
   "metadata": {},
   "source": [
    "<h4>Question 5</h4>Write a recursive method binary() that takes a non-negative\n",
    "integer n and prints the binary representation of integer n.\n",
    ">>> binary(0)\n",
    "0\n",
    ">>> binary(1)\n",
    "1\n",
    ">>> binary(3)\n",
    "11\n",
    ">>> binary(9)\n",
    "1001\n"
   ]
  },
  {
   "cell_type": "code",
   "execution_count": 15,
   "id": "183d4c58",
   "metadata": {},
   "outputs": [
    {
     "name": "stdout",
     "output_type": "stream",
     "text": [
      "0\n",
      "1\n",
      "11\n",
      "1001\n"
     ]
    }
   ],
   "source": [
    "def binary(n):\n",
    "    if n < 2:\n",
    "        print(n, end='')\n",
    "    else:\n",
    "        binary(n // 2)\n",
    "        print(n % 2, end='')\n",
    "\n",
    "# Testing the binary function\n",
    "binary(0)\n",
    "print()\n",
    "binary(1)\n",
    "print()\n",
    "binary(3)\n",
    "print()\n",
    "binary(9)\n",
    "print()\n"
   ]
  },
  {
   "cell_type": "markdown",
   "id": "a137ff25",
   "metadata": {},
   "source": [
    "<h4>Question 6</h4>Implement a class named HeadingParser that can be used to parse an HTML\n",
    "document, and retrieve and print all the headings in the document. You should\n",
    "implement your class as a subclass of HTMLParser, defined in Standard Library\n",
    "module html.parser. When fed a string containing HTML code, your class should\n",
    "print the headings, one per line and in the order in which they appear in the\n",
    "document. Each heading should be indented as follows: an h1 heading should have\n",
    " BDAT 1004 – Data Programming\n",
    "Page 5 of 7\n",
    "F2021\n",
    "BDAT 1004 Computer Studies\n",
    "indentation 0, and h2 heading should have indentation 1, etc. Test your\n",
    "implementation using w3c.html.\n",
    ">>> infile = open('w3c.html')\n",
    ">>> content = infile.read()\n",
    ">>> infile.close()\n",
    ">>> hp = HeadingParser()\n",
    ">>> hp.feed(content)\n",
    "W3C Mission\n",
    "Principles"
   ]
  },
  {
   "cell_type": "code",
   "execution_count": 40,
   "id": "5abbb2d8",
   "metadata": {},
   "outputs": [],
   "source": [
    "from html.parser import HTMLParser\n",
    "\n",
    "class HeadingParser(HTMLParser):\n",
    "    def __init__(self):\n",
    "        super().__init__()\n",
    "        self.headings = []\n",
    "        self.current_heading = \"\"\n",
    "    \n",
    "    def handle_starttag(self, tag, attrs):\n",
    "        if tag.startswith(\"h\"):\n",
    "            self.current_heading = \"\"\n",
    "    \n",
    "    def handle_data(self, data):\n",
    "        if self.current_heading is not None:\n",
    "            self.current_heading += data.strip()\n",
    "    \n",
    "    def handle_endtag(self, tag):\n",
    "        if tag.startswith(\"h\"):\n",
    "            self.headings.append(self.current_heading)\n",
    "            self.current_heading = None\n",
    "    \n",
    "    def print_headings(self):\n",
    "        for heading in self.headings:\n",
    "            print(heading)\n"
   ]
  },
  {
   "cell_type": "code",
   "execution_count": 21,
   "id": "0763267f",
   "metadata": {},
   "outputs": [
    {
     "name": "stdout",
     "output_type": "stream",
     "text": [
      "Samrat Chapagain- 200549449\n",
      "W3C Mission\n",
      "Principles\n",
      "None\n"
     ]
    }
   ],
   "source": [
    "with open('w3c.html') as infile:\n",
    "    content = infile.read()\n",
    "\n",
    "hp = HeadingParser()\n",
    "hp.feed(content)\n",
    "hp.print_headings()\n"
   ]
  },
  {
   "cell_type": "markdown",
   "id": "123c3ef8",
   "metadata": {},
   "source": [
    "<h4>Question 7</h4>Implement recursive function webdir() that takes as input: a URL (as a string) and\n",
    "non-negative integers depth and indent. Your function should visit every web\n",
    "page reachable from the starting URL web page in depth clicks or less, and print\n",
    "each web page's URL. As shown below, indentation, specified by indent, should\n",
    "be used to indicate the depth of a URL.\n",
    ">>>\n",
    "webdir('http://reed.cs.depaul.edu/lperkovic/csc242/test1.html'\n",
    ", 2, 0)\n",
    "http://reed.cs.depaul.edu/lperkovic/csc242/test1.html\n",
    " http://reed.cs.depaul.edu/lperkovic/csc242/test2.html\n",
    " http://reed.cs.depaul.edu/lperkovic/csc242/test4.html\n",
    " http://reed.cs.depaul.edu/lperkovic/csc242/test3.html\n",
    " http://reed.cs.depaul.edu/lperkovic/csc242/test4.html"
   ]
  },
  {
   "cell_type": "code",
   "execution_count": 37,
   "id": "fda5b438",
   "metadata": {},
   "outputs": [],
   "source": [
    "from urllib.request import urlopen\n",
    "from urllib.parse import urljoin\n",
    "from bs4 import BeautifulSoup\n",
    "\n",
    "def webdir(url, depth, indent=0):\n",
    "    if depth < 0:\n",
    "        return\n",
    "\n",
    "    print(' ' * indent + url)\n",
    "\n",
    "    if depth > 0:\n",
    "        try:\n",
    "            response = urlopen(url)\n",
    "            soup = BeautifulSoup(response, 'html.parser')\n",
    "            links = soup.find_all('a')\n",
    "            for link in links:\n",
    "                href = link.get('href')\n",
    "                next_url = urljoin(url, href)\n",
    "                webdir(next_url, depth - 1, indent + 1)\n",
    "        except Exception:\n",
    "            return\n"
   ]
  },
  {
   "cell_type": "code",
   "execution_count": 38,
   "id": "bee8adda",
   "metadata": {},
   "outputs": [
    {
     "name": "stdout",
     "output_type": "stream",
     "text": [
      "http://reed.cs.depaul.edu/lperkovic/csc242/test1.html\n"
     ]
    }
   ],
   "source": [
    "webdir('http://reed.cs.depaul.edu/lperkovic/csc242/test1.html', 2, 0)\n"
   ]
  },
  {
   "cell_type": "markdown",
   "id": "dce17224",
   "metadata": {},
   "source": [
    "<h4>Question 8</h4>Write SQL queries on the below database table that return:\n",
    "a) All the temperature data.\n",
    "b) All the cities, but without repetition.\n",
    "c) All the records for India.\n",
    "d) All the Fall records.\n",
    "e) The city, country, and season for which the average rainfall is between 200\n",
    "and 400 millimeters.\n",
    "f) The city and country for which the average Fall temperature is above 20\n",
    "degrees, in increasing temperature order.\n",
    "g) The total annual rainfall for Cairo.\n",
    "h) The total rainfall for each season."
   ]
  },
  {
   "cell_type": "markdown",
   "id": "d291d048",
   "metadata": {},
   "source": [
    "import sqlite3\n",
    "\n",
    "conn = sqlite3.connect('sql.db')  \n",
    "\n",
    "cursor = conn.cursor()\n",
    "cursor.execute(\"SELECT Temperature FROM table_name\")  # All the temperature data.\n",
    "temperature_data = cursor.fetchall()\n",
    "\n",
    "cursor.execute(\"SELECT DISTINCT City FROM table_name\")  # All the cities, but without repetition.\n",
    "cities = cursor.fetchall()\n",
    "\n",
    "cursor.execute(\"SELECT * FROM table_name WHERE Country = 'India'\")  # All the records for India.\n",
    "india_records = cursor.fetchall()\n",
    "\n",
    "cursor.execute(\"SELECT * FROM table_name WHERE Season = 'Fall'\")  # All the Fall records.\n",
    "fall_records = cursor.fetchall()\n",
    "\n",
    "cursor.execute(\"SELECT City, Country, Season FROM table_name WHERE Rainfall BETWEEN 200 AND 400\")  # The city, country, and season for which the average rainfall is between 200 and 400 millimeters.\n",
    "rainfall_between_200_400 = cursor.fetchall()\n",
    "\n",
    "cursor.execute(\"SELECT City, Country FROM table_name WHERE Season = 'Fall' AND Temperature > 20 ORDER BY Temperature ASC\")  # The city and country for which the average Fall temperature is above 20 degrees, in increasing temperature order.\n",
    "high_temperature_cities = cursor.fetchall()\n",
    "\n",
    "cursor.execute(\"SELECT SUM(Rainfall) AS Total_Rainfall FROM table_name WHERE City = 'Cairo'\")  # The total annual rainfall for Cairo.\n",
    "cairo_rainfall = cursor.fetchone()[0]\n",
    "\n",
    "cursor.execute(\"SELECT Season, SUM(Rainfall) AS Total_Rainfall FROM table_name GROUP BY Season\")  # The total rainfall for each season.\n",
    "season_rainfall = cursor.fetchall()\n",
    "cursor.close()\n",
    "conn.close()\n",
    "\n",
    "print(\"All the temperature data:\", temperature_data)\n",
    "print(\"All the cities, but without repetition:\", cities)\n",
    "print(\"All the records for India:\", india_records)\n",
    "print(\"All the Fall records:\", fall_records)\n",
    "print(\"The city, country, and season for which the average rainfall is between 200 and 400 millimeters:\", rainfall_between_200_400)\n",
    "print(\"The city and country for which the average Fall temperature is above 20 degrees, in increasing temperature order:\", high_temperature_cities)\n",
    "print(\"The total annual rainfall for Cairo:\", cairo_rainfall)\n",
    "print(\"The total rainfall for each season:\", season_rainfall)\n"
   ]
  },
  {
   "cell_type": "markdown",
   "id": "5d9003d9",
   "metadata": {},
   "source": [
    "<h4>Question 9</h4>Suppose list words is defined as follows:\n",
    ">>> words = ['The', 'quick', 'brown', 'fox', 'jumps', 'over',\n",
    "'the', 'lazy', 'dog']\n",
    "Write list comprehension expressions that use list words and generate the following\n",
    "lists:\n",
    "a) ['THE', 'QUICK', 'BROWN', 'FOX', 'JUMPS', 'OVER', 'THE',\n",
    "'LAZY', 'DOG']\n",
    "b) ['the', 'quick', 'brown', 'fox', 'jumps', 'over', 'the',\n",
    "'lazy', 'dog']\n",
    "c) [3, 5, 5, 3, 5, 4, 3, 4, 3] (the list of lengths of words in list\n",
    "words).\n",
    "d) [['THE', 'the', 3], ['QUICK', 'quick', 5], ['BROWN',\n",
    "'brown', 5], ['FOX', 'fox', 3], ['JUMPS', 'jumps', 5],\n",
    "['OVER', 'over', 4], ['THE', 'the', 3], ['LAZY', 'lazy',\n",
    "4], ['DOG', 'dog', 3]] (the list containing a list for every word of list\n",
    "words, where each list contains the word in uppercase and lowercase and the\n",
    "length of the word.)\n",
    "e) ['The', 'quick', 'brown', 'fox', 'jumps', 'over', 'the',\n",
    "'lazy', 'dog'] (the list of words in list words containing 4 or more\n",
    "characters.)"
   ]
  },
  {
   "cell_type": "code",
   "execution_count": 54,
   "id": "3d6a9d33",
   "metadata": {},
   "outputs": [
    {
     "name": "stdout",
     "output_type": "stream",
     "text": [
      "a)  ['THE', 'QUICK', 'BROWN', 'FOX', 'JUMPS', 'OVER', 'THE', 'LAZY', 'DOG']\n",
      "b)  ['the', 'quick', 'brown', 'fox', 'jumps', 'over', 'the', 'lazy', 'dog']\n",
      "c)  [3, 5, 5, 3, 5, 4, 3, 4, 3]\n",
      "d)  [['THE', 'the', 3], ['QUICK', 'quick', 5], ['BROWN', 'brown', 5], ['FOX', 'fox', 3], ['JUMPS', 'jumps', 5], ['OVER', 'over', 4], ['THE', 'the', 3], ['LAZY', 'lazy', 4], ['DOG', 'dog', 3]]\n",
      "e)  ['quick', 'brown', 'jumps', 'over', 'lazy']\n"
     ]
    }
   ],
   "source": [
    "words = ['The', 'quick', 'brown', 'fox', 'jumps', 'over', 'the', 'lazy', 'dog']\n",
    "\n",
    "# a) ['THE', 'QUICK', 'BROWN', 'FOX', 'JUMPS', 'OVER', 'THE', 'LAZY', 'DOG']\n",
    "a = [word.upper() for word in words]\n",
    "\n",
    "# b) ['the', 'quick', 'brown', 'fox', 'jumps', 'over', 'the', 'lazy', 'dog']\n",
    "b = [word.lower() for word in words]\n",
    "\n",
    "# c) [3, 5, 5, 3, 5, 4, 3, 4, 3] (the list of lengths of words in list words)\n",
    "c = [len(word) for word in words]\n",
    "\n",
    "# d) [['THE', 'the', 3], ['QUICK', 'quick', 5], ['BROWN', 'brown', 5], ['FOX', 'fox', 3], ['JUMPS', 'jumps', 5], ['OVER', 'over', 4], ['THE', 'the', 3], ['LAZY', 'lazy', 4], ['DOG', 'dog', 3]] (the list containing a list for every word of list words, where each list contains the word in uppercase and lowercase and the length of the word.)\n",
    "d = [[word.upper(), word.lower(), len(word)] for word in words]\n",
    "\n",
    "# e) ['The', 'quick', 'brown', 'fox', 'jumps', 'over', 'the', 'lazy', 'dog'] (the list of words in list words containing 4 or more characters.)\n",
    "e = [word for word in words if len(word) >= 4]\n",
    "\n",
    "# Print the results\n",
    "print(\"a) \", a)\n",
    "print(\"b) \", b)\n",
    "print(\"c) \", c)\n",
    "print(\"d) \", d)\n",
    "print(\"e) \", e)\n"
   ]
  },
  {
   "cell_type": "markdown",
   "id": "5b2e6124",
   "metadata": {},
   "source": [
    "<h2><center>~Thank You~</center></h2>"
   ]
  }
 ],
 "metadata": {
  "kernelspec": {
   "display_name": "Python 3 (ipykernel)",
   "language": "python",
   "name": "python3"
  },
  "language_info": {
   "codemirror_mode": {
    "name": "ipython",
    "version": 3
   },
   "file_extension": ".py",
   "mimetype": "text/x-python",
   "name": "python",
   "nbconvert_exporter": "python",
   "pygments_lexer": "ipython3",
   "version": "3.10.9"
  }
 },
 "nbformat": 4,
 "nbformat_minor": 5
}
